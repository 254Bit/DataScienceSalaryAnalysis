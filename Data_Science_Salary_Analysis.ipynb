{
 "cells": [
  {
   "cell_type": "code",
   "execution_count": 2,
   "metadata": {},
   "outputs": [],
   "source": [
    "import numpy as np\n",
    "import pandas as pd\n",
    "import seaborn as sns\n",
    "import matplotlib.pyplot as plt"
   ]
  },
  {
   "cell_type": "code",
   "execution_count": 3,
   "metadata": {},
   "outputs": [
    {
     "data": {
      "text/html": [
       "<div>\n",
       "<style scoped>\n",
       "    .dataframe tbody tr th:only-of-type {\n",
       "        vertical-align: middle;\n",
       "    }\n",
       "\n",
       "    .dataframe tbody tr th {\n",
       "        vertical-align: top;\n",
       "    }\n",
       "\n",
       "    .dataframe thead th {\n",
       "        text-align: right;\n",
       "    }\n",
       "</style>\n",
       "<table border=\"1\" class=\"dataframe\">\n",
       "  <thead>\n",
       "    <tr style=\"text-align: right;\">\n",
       "      <th></th>\n",
       "      <th>work_year</th>\n",
       "      <th>experience_level</th>\n",
       "      <th>employment_type</th>\n",
       "      <th>job_title</th>\n",
       "      <th>salary</th>\n",
       "      <th>salary_currency</th>\n",
       "      <th>salary_in_usd</th>\n",
       "      <th>company_location</th>\n",
       "      <th>company_size</th>\n",
       "    </tr>\n",
       "  </thead>\n",
       "  <tbody>\n",
       "    <tr>\n",
       "      <th>609</th>\n",
       "      <td>2023</td>\n",
       "      <td>SE</td>\n",
       "      <td>FT</td>\n",
       "      <td>Machine Learning Engineer</td>\n",
       "      <td>176100</td>\n",
       "      <td>USD</td>\n",
       "      <td>176100</td>\n",
       "      <td>US</td>\n",
       "      <td>L</td>\n",
       "    </tr>\n",
       "    <tr>\n",
       "      <th>2281</th>\n",
       "      <td>2022</td>\n",
       "      <td>MI</td>\n",
       "      <td>FT</td>\n",
       "      <td>Data Engineer</td>\n",
       "      <td>99100</td>\n",
       "      <td>USD</td>\n",
       "      <td>99100</td>\n",
       "      <td>US</td>\n",
       "      <td>M</td>\n",
       "    </tr>\n",
       "    <tr>\n",
       "      <th>937</th>\n",
       "      <td>2023</td>\n",
       "      <td>SE</td>\n",
       "      <td>FT</td>\n",
       "      <td>Data Scientist</td>\n",
       "      <td>115000</td>\n",
       "      <td>USD</td>\n",
       "      <td>115000</td>\n",
       "      <td>US</td>\n",
       "      <td>M</td>\n",
       "    </tr>\n",
       "    <tr>\n",
       "      <th>1948</th>\n",
       "      <td>2022</td>\n",
       "      <td>EX</td>\n",
       "      <td>FT</td>\n",
       "      <td>Head of Data Science</td>\n",
       "      <td>167875</td>\n",
       "      <td>USD</td>\n",
       "      <td>167875</td>\n",
       "      <td>US</td>\n",
       "      <td>M</td>\n",
       "    </tr>\n",
       "    <tr>\n",
       "      <th>3354</th>\n",
       "      <td>2022</td>\n",
       "      <td>SE</td>\n",
       "      <td>FT</td>\n",
       "      <td>Data Engineer</td>\n",
       "      <td>93700</td>\n",
       "      <td>USD</td>\n",
       "      <td>93700</td>\n",
       "      <td>US</td>\n",
       "      <td>M</td>\n",
       "    </tr>\n",
       "    <tr>\n",
       "      <th>2005</th>\n",
       "      <td>2022</td>\n",
       "      <td>MI</td>\n",
       "      <td>FT</td>\n",
       "      <td>Data Engineer</td>\n",
       "      <td>80000</td>\n",
       "      <td>USD</td>\n",
       "      <td>80000</td>\n",
       "      <td>US</td>\n",
       "      <td>M</td>\n",
       "    </tr>\n",
       "    <tr>\n",
       "      <th>1118</th>\n",
       "      <td>2023</td>\n",
       "      <td>SE</td>\n",
       "      <td>FT</td>\n",
       "      <td>Data Scientist</td>\n",
       "      <td>185900</td>\n",
       "      <td>USD</td>\n",
       "      <td>185900</td>\n",
       "      <td>US</td>\n",
       "      <td>M</td>\n",
       "    </tr>\n",
       "  </tbody>\n",
       "</table>\n",
       "</div>"
      ],
      "text/plain": [
       "      work_year experience_level employment_type                  job_title  \\\n",
       "609        2023               SE              FT  Machine Learning Engineer   \n",
       "2281       2022               MI              FT              Data Engineer   \n",
       "937        2023               SE              FT             Data Scientist   \n",
       "1948       2022               EX              FT       Head of Data Science   \n",
       "3354       2022               SE              FT              Data Engineer   \n",
       "2005       2022               MI              FT              Data Engineer   \n",
       "1118       2023               SE              FT             Data Scientist   \n",
       "\n",
       "      salary salary_currency  salary_in_usd company_location company_size  \n",
       "609   176100             USD         176100               US            L  \n",
       "2281   99100             USD          99100               US            M  \n",
       "937   115000             USD         115000               US            M  \n",
       "1948  167875             USD         167875               US            M  \n",
       "3354   93700             USD          93700               US            M  \n",
       "2005   80000             USD          80000               US            M  \n",
       "1118  185900             USD         185900               US            M  "
      ]
     },
     "execution_count": 3,
     "metadata": {},
     "output_type": "execute_result"
    }
   ],
   "source": [
    "df = pd.read_csv('Data Science Salary 2021 to 2023.csv')\n",
    "df.sample(7)\n"
   ]
  },
  {
   "cell_type": "code",
   "execution_count": 4,
   "metadata": {},
   "outputs": [
    {
     "data": {
      "text/plain": [
       "Index(['work_year', 'experience_level', 'employment_type', 'job_title',\n",
       "       'salary', 'salary_currency', 'salary_in_usd', 'company_location',\n",
       "       'company_size'],\n",
       "      dtype='object')"
      ]
     },
     "execution_count": 4,
     "metadata": {},
     "output_type": "execute_result"
    }
   ],
   "source": [
    "df.columns"
   ]
  },
  {
   "cell_type": "code",
   "execution_count": 5,
   "metadata": {},
   "outputs": [
    {
     "name": "stdout",
     "output_type": "stream",
     "text": [
      "<class 'pandas.core.frame.DataFrame'>\n",
      "RangeIndex: 3761 entries, 0 to 3760\n",
      "Data columns (total 9 columns):\n",
      " #   Column            Non-Null Count  Dtype \n",
      "---  ------            --------------  ----- \n",
      " 0   work_year         3761 non-null   int64 \n",
      " 1   experience_level  3761 non-null   object\n",
      " 2   employment_type   3761 non-null   object\n",
      " 3   job_title         3761 non-null   object\n",
      " 4   salary            3761 non-null   int64 \n",
      " 5   salary_currency   3761 non-null   object\n",
      " 6   salary_in_usd     3761 non-null   int64 \n",
      " 7   company_location  3761 non-null   object\n",
      " 8   company_size      3761 non-null   object\n",
      "dtypes: int64(3), object(6)\n",
      "memory usage: 264.6+ KB\n"
     ]
    }
   ],
   "source": [
    "df.info()"
   ]
  },
  {
   "cell_type": "code",
   "execution_count": 6,
   "metadata": {},
   "outputs": [],
   "source": [
    "#work_year to category type\n",
    "#df['work_year'] = df['work_year'].astype('category')"
   ]
  },
  {
   "cell_type": "code",
   "execution_count": 7,
   "metadata": {},
   "outputs": [
    {
     "name": "stdout",
     "output_type": "stream",
     "text": [
      "<class 'pandas.core.frame.DataFrame'>\n",
      "RangeIndex: 3761 entries, 0 to 3760\n",
      "Data columns (total 9 columns):\n",
      " #   Column            Non-Null Count  Dtype \n",
      "---  ------            --------------  ----- \n",
      " 0   work_year         3761 non-null   int64 \n",
      " 1   experience_level  3761 non-null   object\n",
      " 2   employment_type   3761 non-null   object\n",
      " 3   job_title         3761 non-null   object\n",
      " 4   salary            3761 non-null   int64 \n",
      " 5   salary_currency   3761 non-null   object\n",
      " 6   salary_in_usd     3761 non-null   int64 \n",
      " 7   company_location  3761 non-null   object\n",
      " 8   company_size      3761 non-null   object\n",
      "dtypes: int64(3), object(6)\n",
      "memory usage: 264.6+ KB\n"
     ]
    }
   ],
   "source": [
    "df.info()"
   ]
  },
  {
   "cell_type": "code",
   "execution_count": 8,
   "metadata": {},
   "outputs": [
    {
     "data": {
      "text/html": [
       "<div>\n",
       "<style scoped>\n",
       "    .dataframe tbody tr th:only-of-type {\n",
       "        vertical-align: middle;\n",
       "    }\n",
       "\n",
       "    .dataframe tbody tr th {\n",
       "        vertical-align: top;\n",
       "    }\n",
       "\n",
       "    .dataframe thead th {\n",
       "        text-align: right;\n",
       "    }\n",
       "</style>\n",
       "<table border=\"1\" class=\"dataframe\">\n",
       "  <thead>\n",
       "    <tr style=\"text-align: right;\">\n",
       "      <th></th>\n",
       "      <th>count</th>\n",
       "      <th>mean</th>\n",
       "      <th>std</th>\n",
       "      <th>min</th>\n",
       "      <th>25%</th>\n",
       "      <th>50%</th>\n",
       "      <th>75%</th>\n",
       "      <th>max</th>\n",
       "    </tr>\n",
       "  </thead>\n",
       "  <tbody>\n",
       "    <tr>\n",
       "      <th>work_year</th>\n",
       "      <td>3761.0</td>\n",
       "      <td>2022.374103</td>\n",
       "      <td>0.691252</td>\n",
       "      <td>2020.0</td>\n",
       "      <td>2022.0</td>\n",
       "      <td>2022.0</td>\n",
       "      <td>2023.0</td>\n",
       "      <td>2023.0</td>\n",
       "    </tr>\n",
       "    <tr>\n",
       "      <th>salary</th>\n",
       "      <td>3761.0</td>\n",
       "      <td>190599.886200</td>\n",
       "      <td>671145.715636</td>\n",
       "      <td>6000.0</td>\n",
       "      <td>100000.0</td>\n",
       "      <td>137500.0</td>\n",
       "      <td>180000.0</td>\n",
       "      <td>30400000.0</td>\n",
       "    </tr>\n",
       "    <tr>\n",
       "      <th>salary_in_usd</th>\n",
       "      <td>3761.0</td>\n",
       "      <td>137555.178942</td>\n",
       "      <td>63022.267974</td>\n",
       "      <td>5132.0</td>\n",
       "      <td>95000.0</td>\n",
       "      <td>135000.0</td>\n",
       "      <td>175000.0</td>\n",
       "      <td>450000.0</td>\n",
       "    </tr>\n",
       "  </tbody>\n",
       "</table>\n",
       "</div>"
      ],
      "text/plain": [
       "                count           mean            std     min       25%  \\\n",
       "work_year      3761.0    2022.374103       0.691252  2020.0    2022.0   \n",
       "salary         3761.0  190599.886200  671145.715636  6000.0  100000.0   \n",
       "salary_in_usd  3761.0  137555.178942   63022.267974  5132.0   95000.0   \n",
       "\n",
       "                    50%       75%         max  \n",
       "work_year        2022.0    2023.0      2023.0  \n",
       "salary         137500.0  180000.0  30400000.0  \n",
       "salary_in_usd  135000.0  175000.0    450000.0  "
      ]
     },
     "execution_count": 8,
     "metadata": {},
     "output_type": "execute_result"
    }
   ],
   "source": [
    "df.describe().T"
   ]
  },
  {
   "cell_type": "code",
   "execution_count": 9,
   "metadata": {},
   "outputs": [
    {
     "data": {
      "text/plain": [
       "work_year           0\n",
       "experience_level    0\n",
       "employment_type     0\n",
       "job_title           0\n",
       "salary              0\n",
       "salary_currency     0\n",
       "salary_in_usd       0\n",
       "company_location    0\n",
       "company_size        0\n",
       "dtype: int64"
      ]
     },
     "execution_count": 9,
     "metadata": {},
     "output_type": "execute_result"
    }
   ],
   "source": [
    "#Check for missing values\n",
    "df.apply(lambda x: sum(x.isnull()))"
   ]
  },
  {
   "cell_type": "code",
   "execution_count": 10,
   "metadata": {},
   "outputs": [
    {
     "data": {
      "text/plain": [
       "array([[<Axes: title={'center': 'work_year'}>,\n",
       "        <Axes: title={'center': 'salary'}>,\n",
       "        <Axes: title={'center': 'salary_in_usd'}>],\n",
       "       [<Axes: >, <Axes: >, <Axes: >],\n",
       "       [<Axes: >, <Axes: >, <Axes: >]], dtype=object)"
      ]
     },
     "execution_count": 10,
     "metadata": {},
     "output_type": "execute_result"
    },
    {
     "data": {
      "image/png": "[encoded data removed]",
      "text/plain": [
       "<Figure size 1300x1300 with 9 Axes>"
      ]
     },
     "metadata": {},
     "output_type": "display_data"
    }
   ],
   "source": [
    "#Graphical visualization to understand the data distribution\n",
    "df.hist(layout= (3,3), sharex=False, figsize =(13,13))"
   ]
  },
  {
   "cell_type": "code",
   "execution_count": 11,
   "metadata": {},
   "outputs": [
    {
     "data": {
      "text/plain": [
       "1351"
      ]
     },
     "execution_count": 11,
     "metadata": {},
     "output_type": "execute_result"
    }
   ],
   "source": [
    "#Check duplicates\n",
    "df.duplicated().sum()"
   ]
  },
  {
   "cell_type": "code",
   "execution_count": 12,
   "metadata": {},
   "outputs": [
    {
     "data": {
      "text/plain": [
       "0"
      ]
     },
     "execution_count": 12,
     "metadata": {},
     "output_type": "execute_result"
    }
   ],
   "source": [
    "df=df.drop_duplicates()\n",
    "df.duplicated().sum()"
   ]
  },
  {
   "cell_type": "code",
   "execution_count": 13,
   "metadata": {},
   "outputs": [
    {
     "name": "stdout",
     "output_type": "stream",
     "text": [
      "Unique Experience Levels: ['EN' 'EX' 'MI' 'SE']\n",
      "Unique Employment Types: ['FT' 'PT' 'CT' 'FL']\n",
      "Unique Company Size: ['L' 'M' 'S']\n"
     ]
    }
   ],
   "source": [
    "unique_experience_levels = df['experience_level'].unique()\n",
    "unique_employment_types = df['employment_type'].unique()\n",
    "unique_company_sizes = df['company_size'].unique()\n",
    "\n",
    "print('Unique Experience Levels:',unique_experience_levels)\n",
    "print('Unique Employment Types:',unique_employment_types)\n",
    "print('Unique Company Size:',unique_company_sizes)"
   ]
  },
  {
   "cell_type": "code",
   "execution_count": 14,
   "metadata": {},
   "outputs": [],
   "source": [
    "df['employment_type']=df['employment_type'].replace('FT', 'Full Time')\n",
    "df['employment_type']=df['employment_type'].replace('PT', 'Part Time')\n",
    "df['employment_type']=df['employment_type'].replace('CT', 'Contract')\n",
    "df['employment_type']=df['employment_type'].replace('FL', 'Freelance')\n",
    "\n",
    "df['company_size'] = df['company_size'].replace('L','Large')\n",
    "df['company_size'] = df['company_size'].replace('M','Medium')\n",
    "df['company_size'] = df['company_size'].replace('S','Small')"
   ]
  },
  {
   "cell_type": "code",
   "execution_count": 15,
   "metadata": {},
   "outputs": [
    {
     "data": {
      "text/plain": [
       "experience_level\n",
       "Senior         1417\n",
       "Mid Level       631\n",
       "Entry Level     267\n",
       "Experienced      95\n",
       "Name: count, dtype: int64"
      ]
     },
     "execution_count": 15,
     "metadata": {},
     "output_type": "execute_result"
    }
   ],
   "source": [
    "replacement ={'EN': 'Entry Level',\n",
    "              'MI':'Mid Level',\n",
    "              'SE': 'Senior',\n",
    "              'EX':'Experienced'}\n",
    "\n",
    "df['experience_level'] = df['experience_level'].map(replacement)\n",
    "df['experience_level'].value_counts()"
   ]
  },
  {
   "cell_type": "code",
   "execution_count": 16,
   "metadata": {},
   "outputs": [
    {
     "data": {
      "text/plain": [
       "<Axes: xlabel='experience_level'>"
      ]
     },
     "execution_count": 16,
     "metadata": {},
     "output_type": "execute_result"
    },
    {
     "data": {
      "image/png": "[encoded data removed]",
      "text/plain": [
       "<Figure size 640x480 with 1 Axes>"
      ]
     },
     "metadata": {},
     "output_type": "display_data"
    }
   ],
   "source": [
    "df['experience_level'].value_counts().plot(kind='bar')"
   ]
  },
  {
   "cell_type": "code",
   "execution_count": 17,
   "metadata": {},
   "outputs": [
    {
     "data": {
      "text/plain": [
       "<Axes: xlabel='employment_type'>"
      ]
     },
     "execution_count": 17,
     "metadata": {},
     "output_type": "execute_result"
    },
    {
     "data": {
      "image/png": "[encoded data removed]",
      "text/plain": [
       "<Figure size 640x480 with 1 Axes>"
      ]
     },
     "metadata": {},
     "output_type": "display_data"
    }
   ],
   "source": [
    "df['employment_type'].value_counts().plot(kind='bar')"
   ]
  },
  {
   "cell_type": "code",
   "execution_count": 18,
   "metadata": {},
   "outputs": [
    {
     "data": {
      "text/plain": [
       "<Axes: xlabel='company_size'>"
      ]
     },
     "execution_count": 18,
     "metadata": {},
     "output_type": "execute_result"
    },
    {
     "data": {
      "image/png": "[encoded data removed]",
      "text/plain": [
       "<Figure size 640x480 with 1 Axes>"
      ]
     },
     "metadata": {},
     "output_type": "display_data"
    }
   ],
   "source": [
    "df['company_size'].value_counts().plot(kind='bar')"
   ]
  },
  {
   "cell_type": "code",
   "execution_count": 19,
   "metadata": {},
   "outputs": [
    {
     "data": {
      "image/png": "[encoded data removed]",
      "text/plain": [
       "<Figure size 640x480 with 1 Axes>"
      ]
     },
     "metadata": {},
     "output_type": "display_data"
    }
   ],
   "source": [
    "df['salary_in_usd'].plot(kind='hist')\n",
    "plt.show()"
   ]
  }
 ],
 "metadata": {
  "kernelspec": {
   "display_name": "Python 3",
   "language": "python",
   "name": "python3"
  },
  "language_info": {
   "codemirror_mode": {
    "name": "ipython",
    "version": 3
   },
   "file_extension": ".py",
   "mimetype": "text/x-python",
   "name": "python",
   "nbconvert_exporter": "python",
   "pygments_lexer": "ipython3",
   "version": "3.12.0"
  }
 },
 "nbformat": 4,
 "nbformat_minor": 2
}
